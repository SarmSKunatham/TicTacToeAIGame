{
  "nbformat": 4,
  "nbformat_minor": 0,
  "metadata": {
    "colab": {
      "provenance": [],
      "collapsed_sections": [],
      "authorship_tag": "ABX9TyOyYXQ3jl7W/r0iDQk/UZjx",
      "include_colab_link": true
    },
    "kernelspec": {
      "name": "python3",
      "display_name": "Python 3"
    },
    "language_info": {
      "name": "python"
    }
  },
  "cells": [
    {
      "cell_type": "markdown",
      "metadata": {
        "id": "view-in-github",
        "colab_type": "text"
      },
      "source": [
        "<a href=\"https://colab.research.google.com/github/SarmSKunatham/TicTacToeAIGame/blob/main/TicTacToeAI.ipynb\" target=\"_parent\"><img src=\"https://colab.research.google.com/assets/colab-badge.svg\" alt=\"Open In Colab\"/></a>"
      ]
    },
    {
      "cell_type": "markdown",
      "source": [
        "# Tic Tac Toe Self learning AI\n",
        "\n",
        "ref: https://www.kaggle.com/code/dhanushkishore/a-self-learning-tic-tac-toe-program/notebook"
      ],
      "metadata": {
        "id": "fldYnFj_BKAA"
      }
    },
    {
      "cell_type": "code",
      "source": [
        "!gdown 1fPh7kQsrev0yQ1T0GN8e4Sw2wde6D13i"
      ],
      "metadata": {
        "colab": {
          "base_uri": "https://localhost:8080/"
        },
        "id": "8X333cvKAAUi",
        "outputId": "00689f03-41f3-4a70-fd22-79399f5d093a"
      },
      "execution_count": null,
      "outputs": [
        {
          "output_type": "stream",
          "name": "stdout",
          "text": [
            "Downloading...\n",
            "From: https://drive.google.com/uc?id=1fPh7kQsrev0yQ1T0GN8e4Sw2wde6D13i\n",
            "To: /content/TicTacToeModel.h5\n",
            "\r  0% 0.00/27.5k [00:00<?, ?B/s]\r100% 27.5k/27.5k [00:00<00:00, 35.2MB/s]\n"
          ]
        }
      ]
    },
    {
      "cell_type": "code",
      "source": [
        "from tensorflow import keras\n",
        "# Importing required moduless\n",
        "import numpy as np \n",
        "import pandas as pd \n",
        "import pprint,random"
      ],
      "metadata": {
        "id": "reYe4AVLr-gP"
      },
      "execution_count": null,
      "outputs": []
    },
    {
      "cell_type": "code",
      "source": [
        "model_path = \"/content/TicTacToeModel.h5\""
      ],
      "metadata": {
        "id": "RJSm0UCnsFvy"
      },
      "execution_count": null,
      "outputs": []
    },
    {
      "cell_type": "markdown",
      "source": [
        "# TicTacToe Game Class"
      ],
      "metadata": {
        "id": "8BfwYnwTsgN7"
      }
    },
    {
      "cell_type": "code",
      "source": [
        "class tic_tac_toe_game(object):\n",
        "    def __init__(self):\n",
        "        self.board=np.full((3,3),2)\n",
        "\n",
        "    def toss(self):\n",
        "        \"\"\"Function to simulate a toss and decide which player goes first\n",
        "\n",
        "        Args:\n",
        "\n",
        "        Returns:\n",
        "        Returns 1 if player assigned mark 1 has won, or 0 if his opponent won\n",
        "\n",
        "        \"\"\"\n",
        "        turn=np.random.randint(0,2,size=1)\n",
        "        if turn.mean()==0:\n",
        "            self.turn_monitor=0\n",
        "        elif turn.mean()==1:\n",
        "            self.turn_monitor=1\n",
        "        return self.turn_monitor\n",
        "\n",
        "    def move(self,player,coord):\n",
        "        \"\"\"Function to perform the action of placing a mark on the tic tac toe board\n",
        "        After performing the action, this function flips the value of the turn_monitor to \n",
        "        the next player\n",
        "\n",
        "        Args:\n",
        "        player: 1 if player who is assigned the mark 1 is performing the action, \n",
        "        0 if his opponent is performing the action\n",
        "        coord: The coordinate where the 1 or 0 is to be placed on the \n",
        "        tic-tac-toe board (numpy array)\n",
        "\n",
        "        Returns:\n",
        "        game_status(): Calls the game status function and returns its value\n",
        "        board: Returns the new board state after making the move\n",
        "\n",
        "        \"\"\"\n",
        "        if self.board[coord]!=2 or self.game_status()!=\"In Progress\" or self.turn_monitor!=player:\n",
        "            raise ValueError(\"Invalid move\")\n",
        "        self.board[coord]=player\n",
        "        self.turn_monitor=1-player\n",
        "        return self.game_status(),self.board\n",
        "\n",
        "\n",
        "    def game_status(self):\n",
        "        \"\"\"Function to check the current status of the game, \n",
        "        whether the game has been won, drawn or is in progress\n",
        "\n",
        "        Args:\n",
        "\n",
        "        Returns:\n",
        "        \"Won\" if the game has been won, \"Drawn\" if the \n",
        "        game has been drawn, or \"In Progress\", if the game is still in progress\n",
        "\n",
        "        \"\"\"\n",
        "        #check for a win along rows\n",
        "        for i in range(self.board.shape[0]):\n",
        "            if 2 not in self.board[i,:] and len(set(self.board[i,:]))==1:\n",
        "                return \"Won\"\n",
        "        #check for a win along columns\n",
        "        for j in range(self.board.shape[1]):\n",
        "            if 2 not in self.board[:,j] and len(set(self.board[:,j]))==1:\n",
        "                return \"Won\"\n",
        "        # check for a win along diagonals\n",
        "        if 2 not in np.diag(self.board) and len(set(np.diag(self.board)))==1:\n",
        "            return \"Won\"\n",
        "        if 2 not in np.diag(np.fliplr(self.board)) and len(set(np.diag(np.fliplr(self.board))))==1:\n",
        "            return \"Won\"\n",
        "        # check for a Draw\n",
        "        if not 2 in self.board:\n",
        "            return \"Drawn\"\n",
        "        else:\n",
        "            return \"In Progress\"\n"
      ],
      "metadata": {
        "id": "SASG4YfpsZkT"
      },
      "execution_count": null,
      "outputs": []
    },
    {
      "cell_type": "markdown",
      "source": [
        "## Legal move Generator"
      ],
      "metadata": {
        "id": "hvPuHvAStZMh"
      }
    },
    {
      "cell_type": "code",
      "source": [
        "def legal_moves_generator(current_board_state,turn_monitor):\n",
        "    \"\"\"Function that returns the set of all possible legal moves and resulting board states, \n",
        "    for a given input board state and player\n",
        "\n",
        "    Args:\n",
        "    current_board_state: The current board state\n",
        "    turn_monitor: 1 if it's the player who places the mark 1's turn to play, 0 if its his opponent's turn\n",
        "\n",
        "    Returns:\n",
        "    legal_moves_dict: A dictionary of a list of possible next coordinate-resulting board state pairs\n",
        "    The resulting board state is flattened to 1 d array\n",
        "\n",
        "    \"\"\"\n",
        "    legal_moves_dict={}\n",
        "    for i in range(current_board_state.shape[0]):\n",
        "        for j in range(current_board_state.shape[1]):\n",
        "            if current_board_state[i,j]==2:\n",
        "                board_state_copy=current_board_state.copy()\n",
        "                board_state_copy[i,j]=turn_monitor\n",
        "                legal_moves_dict[(i,j)]=board_state_copy.flatten()\n",
        "    return legal_moves_dict"
      ],
      "metadata": {
        "id": "zBAowqx2tbsP"
      },
      "execution_count": null,
      "outputs": []
    },
    {
      "cell_type": "markdown",
      "source": [
        "## Evaluator"
      ],
      "metadata": {
        "id": "2REAVfO0toBy"
      }
    },
    {
      "cell_type": "code",
      "source": [
        "model = keras.models.load_model(model_path)\n",
        "\n",
        "model.summary()"
      ],
      "metadata": {
        "colab": {
          "base_uri": "https://localhost:8080/"
        },
        "id": "hXCNj2MisM4z",
        "outputId": "28cde527-6b46-4ea3-ff19-d399a4109057"
      },
      "execution_count": null,
      "outputs": [
        {
          "output_type": "stream",
          "name": "stdout",
          "text": [
            "Model: \"sequential_1\"\n",
            "_________________________________________________________________\n",
            " Layer (type)                Output Shape              Param #   \n",
            "=================================================================\n",
            " dense_1 (Dense)             (None, 18)                180       \n",
            "                                                                 \n",
            " dropout_1 (Dropout)         (None, 18)                0         \n",
            "                                                                 \n",
            " dense_2 (Dense)             (None, 9)                 171       \n",
            "                                                                 \n",
            " dropout_2 (Dropout)         (None, 9)                 0         \n",
            "                                                                 \n",
            " dense_3 (Dense)             (None, 1)                 10        \n",
            "                                                                 \n",
            "=================================================================\n",
            "Total params: 361\n",
            "Trainable params: 361\n",
            "Non-trainable params: 0\n",
            "_________________________________________________________________\n"
          ]
        }
      ]
    },
    {
      "cell_type": "markdown",
      "source": [
        "## Program Move Selector"
      ],
      "metadata": {
        "id": "l6fMuRNZtt3g"
      }
    },
    {
      "cell_type": "code",
      "source": [
        "def move_selector(model,current_board_state,turn_monitor):\n",
        "    \"\"\"Function that selects the next move to make from a set of possible legal moves\n",
        "\n",
        "    Args:\n",
        "    model: The Evaluator function to use to evaluate each possible next board state\n",
        "    turn_monitor: 1 if it's the player who places the mark 1's turn to play, 0 if its his opponent's turn\n",
        "\n",
        "    Returns:\n",
        "    selected_move: The numpy array coordinates where the player should place thier mark\n",
        "    new_board_state: The flattened new board state resulting from performing above selected move\n",
        "    score: The score that was assigned to the above selected_move by the Evaluator (model)\n",
        "\n",
        "    \"\"\"\n",
        "    tracker={}\n",
        "    legal_moves_dict=legal_moves_generator(current_board_state,turn_monitor)\n",
        "    for legal_move_coord in legal_moves_dict:\n",
        "        score=model.predict(legal_moves_dict[legal_move_coord].reshape(1,9))\n",
        "        tracker[legal_move_coord]=score\n",
        "    selected_move=max(tracker, key=tracker.get)\n",
        "    new_board_state=legal_moves_dict[selected_move]\n",
        "    score=tracker[selected_move]\n",
        "    return selected_move,new_board_state,score"
      ],
      "metadata": {
        "id": "uM1ExxNctyrX"
      },
      "execution_count": null,
      "outputs": []
    },
    {
      "cell_type": "markdown",
      "source": [
        "### 0 as an AI, 1 as a player"
      ],
      "metadata": {
        "id": "Wt2U7wXc2-qO"
      }
    },
    {
      "cell_type": "code",
      "source": [
        "def playGame(model = model):\n",
        "        # Location\n",
        "    location = {\n",
        "        1: (0, 0),\n",
        "        2: (0, 1),\n",
        "        3: (0, 2),\n",
        "        4: (1, 0),\n",
        "        5: (1, 1),\n",
        "        6: (1, 2),\n",
        "        7: (2, 0),\n",
        "        8: (2, 1),\n",
        "        9: (2, 2)\n",
        "    }\n",
        "\n",
        "    # Initialize game\n",
        "    game = tic_tac_toe_game()\n",
        "\n",
        "    # toss who play first\n",
        "    game.toss()\n",
        "\n",
        "    print(\"Starting the game!!!\\n\")\n",
        "    print(f\"Player {game.turn_monitor} play first\\n\")\n",
        "    print(f\"Initialize board: \\n {game.board}\")\n",
        "\n",
        "    while(1):\n",
        "        # Ai turn\n",
        "        if game.game_status() == \"In Progress\" and game.turn_monitor == 0:\n",
        "            # If its the program's turn, use the Move Selector function to select the next move\n",
        "            selected_move,new_board_state,score = move_selector(model, game.board, game.turn_monitor)\n",
        "\n",
        "            game_status, board = game.move(game.turn_monitor, selected_move)\n",
        "\n",
        "            print(\"AI moved\")\n",
        "            print(board)\n",
        "            print(\"\\n\")\n",
        "        \n",
        "        # Player turn\n",
        "        elif game.game_status() == \"In Progress\" and game.turn_monitor == 1:\n",
        "            try :\n",
        "                player_move = int(input(\"Your turn to move: \"))\n",
        "                player_move = location[player_move]\n",
        "\n",
        "            # Catch error\n",
        "            except:\n",
        "                player_move = int(input(\"Please make an valid move!: \"))\n",
        "                player_move = location[player_move]\n",
        "            \n",
        "\n",
        "            # player_move = tuple(player_move)\n",
        "            print(player_move)\n",
        "\n",
        "            game_status, board = game.move(game.turn_monitor, player_move)\n",
        "            print(\"Player moved\\n\")\n",
        "            print(board)\n",
        "            print(\"\\n\")\n",
        "\n",
        "        else:\n",
        "            players = [\"AI\", \"Player\"]\n",
        "        \n",
        "            if game.game_status() == \"Draw\":\n",
        "                print(f\"{game.game_status}\")\n",
        "            else:\n",
        "                print(f\"{players[1 - game.turn_monitor]} has {game.game_status()} \")\n",
        "            break\n",
        "\n",
        "        "
      ],
      "metadata": {
        "id": "8-rm5wjdtGs-"
      },
      "execution_count": null,
      "outputs": []
    },
    {
      "cell_type": "markdown",
      "source": [
        "## The input should be the location that you want to play ranging from 1-9 : \n",
        "\n",
        "[[1, 2, 3]\n",
        "\n",
        "[4, 5, 6]\n",
        "\n",
        "[7, 8, 9]]"
      ],
      "metadata": {
        "id": "FkjIG6xSATgv"
      }
    },
    {
      "cell_type": "code",
      "source": [
        "playGame()"
      ],
      "metadata": {
        "colab": {
          "base_uri": "https://localhost:8080/"
        },
        "id": "TWRsV8tI6r7h",
        "outputId": "509cdefe-7e55-4054-e6ce-a3343640f99b"
      },
      "execution_count": null,
      "outputs": [
        {
          "output_type": "stream",
          "name": "stdout",
          "text": [
            "Starting the game!!!\n",
            "\n",
            "Player 1 play first\n",
            "\n",
            "Initialize board: \n",
            " [[2 2 2]\n",
            " [2 2 2]\n",
            " [2 2 2]]\n",
            "Your turn to move: 1\n",
            "(0, 0)\n",
            "Player moved\n",
            "\n",
            "[[1 2 2]\n",
            " [2 2 2]\n",
            " [2 2 2]]\n",
            "\n",
            "\n",
            "1/1 [==============================] - 0s 62ms/step\n",
            "1/1 [==============================] - 0s 23ms/step\n",
            "1/1 [==============================] - 0s 20ms/step\n",
            "1/1 [==============================] - 0s 18ms/step\n",
            "1/1 [==============================] - 0s 23ms/step\n",
            "1/1 [==============================] - 0s 18ms/step\n",
            "1/1 [==============================] - 0s 18ms/step\n",
            "1/1 [==============================] - 0s 20ms/step\n",
            "AI moved\n",
            "[[1 2 2]\n",
            " [2 2 2]\n",
            " [2 2 0]]\n",
            "\n",
            "\n",
            "Your turn to move: 2\n",
            "(0, 1)\n",
            "Player moved\n",
            "\n",
            "[[1 1 2]\n",
            " [2 2 2]\n",
            " [2 2 0]]\n",
            "\n",
            "\n",
            "1/1 [==============================] - 0s 25ms/step\n",
            "1/1 [==============================] - 0s 20ms/step\n",
            "1/1 [==============================] - 0s 19ms/step\n",
            "1/1 [==============================] - 0s 23ms/step\n",
            "1/1 [==============================] - 0s 22ms/step\n",
            "1/1 [==============================] - 0s 18ms/step\n",
            "AI moved\n",
            "[[1 1 2]\n",
            " [0 2 2]\n",
            " [2 2 0]]\n",
            "\n",
            "\n",
            "Your turn to move: 3\n",
            "(0, 2)\n",
            "Player moved\n",
            "\n",
            "[[1 1 1]\n",
            " [0 2 2]\n",
            " [2 2 0]]\n",
            "\n",
            "\n",
            "Player has Won \n"
          ]
        }
      ]
    }
  ]
}